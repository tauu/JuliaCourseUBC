{
 "cells": [
  {
   "cell_type": "markdown",
   "metadata": {},
   "source": [
    "### Task 1\n",
    "\n",
    "Add a documentation to the function newtonInv from session 4, such that `?newtonInv` displays the following information:\n",
    "\n",
    "\n",
    "\n",
    "    newtonInv(x::Real,y0=0.1;iterations=10)\n",
    "\n",
    "Calculate an approximation of the inverse of `x`\n",
    "by using the iteration $y_{k+1} = 2*y_k - y_k^2*x$\n",
    "with inital value $y_0$ = y0.\n",
    "\n",
    "\n",
    "# Examples\n",
    "## Main Example\n",
    "```\n",
    "julia> newonInv(2)\n",
    "0.5\n",
    "```"
   ]
  },
  {
   "cell_type": "code",
   "execution_count": 2,
   "metadata": {},
   "outputs": [
    {
     "name": "stderr",
     "output_type": "stream",
     "text": [
      "\u001b[1m\u001b[33mWARNING: \u001b[39m\u001b[22m\u001b[33mreplacing docs for 'newtonInv :: Union{Tuple{Real,Any}, Tuple{Real}}' in module 'Main'.\u001b[39m\n"
     ]
    },
    {
     "data": {
      "text/plain": [
       "newtonInv"
      ]
     },
     "execution_count": 2,
     "metadata": {},
     "output_type": "execute_result"
    }
   ],
   "source": [
    "\"\"\"\n",
    "    newtonInv(x::Real,y0=0.1;iterations=10)\n",
    "\n",
    "Calculate an approximation of the inverse of `x`\n",
    "by using the iteration ``y_{k+1} = 2*y_k - y_k^2*x``\n",
    "with inital value ``y_0`` = y0.\n",
    "\n",
    "\n",
    "# Examples\n",
    "## Main Example\n",
    "```\n",
    "julia> newonInv(2)\n",
    "0.5\n",
    "```\n",
    "\"\"\"\n",
    "function newtonInv(x::Real,y0=0.1;iterations=10) \n",
    "    y = y0;\n",
    "    for i in 1:iterations\n",
    "        y = 2*y-y^2*x\n",
    "    end\n",
    "    return y\n",
    "end"
   ]
  },
  {
   "cell_type": "code",
   "execution_count": 3,
   "metadata": {},
   "outputs": [
    {
     "name": "stdout",
     "output_type": "stream",
     "text": [
      "search:\n",
      "\n"
     ]
    },
    {
     "data": {
      "text/markdown": [
       "```\n",
       "newtonInv(x::Real,y0=0.1;iterations=10)\n",
       "```\n",
       "\n",
       "Calculate an approximation of the inverse of `x` by using the iteration $y_{k+1} = 2*y_k - y_k^2*x$ with inital value $y_0$ = y0.\n",
       "\n",
       "# Examples\n",
       "\n",
       "## Main Example\n",
       "\n",
       "```\n",
       "julia> newonInv(2)\n",
       "0.5\n",
       "```\n"
      ],
      "text/plain": [
       "```\n",
       "newtonInv(x::Real,y0=0.1;iterations=10)\n",
       "```\n",
       "\n",
       "Calculate an approximation of the inverse of `x` by using the iteration $y_{k+1} = 2*y_k - y_k^2*x$ with inital value $y_0$ = y0.\n",
       "\n",
       "# Examples\n",
       "\n",
       "## Main Example\n",
       "\n",
       "```\n",
       "julia> newonInv(2)\n",
       "0.5\n",
       "```\n"
      ]
     },
     "execution_count": 3,
     "metadata": {},
     "output_type": "execute_result"
    }
   ],
   "source": [
    "?newtonInv"
   ]
  },
  {
   "cell_type": "code",
   "execution_count": null,
   "metadata": {
    "collapsed": true
   },
   "outputs": [],
   "source": []
  }
 ],
 "metadata": {
  "kernelspec": {
   "display_name": "Julia 0.6.0",
   "language": "julia",
   "name": "julia-0.6"
  },
  "language_info": {
   "file_extension": ".jl",
   "mimetype": "application/julia",
   "name": "julia",
   "version": "0.6.0"
  }
 },
 "nbformat": 4,
 "nbformat_minor": 2
}
