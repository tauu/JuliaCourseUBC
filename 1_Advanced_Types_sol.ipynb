{
 "cells": [
  {
   "cell_type": "markdown",
   "metadata": {},
   "source": [
    "## Task 1\n",
    "\n",
    "Create a tuple (\"name1\",\"name2\") with name1,name2 being your favorite hero/villain pair of any movie / comic book. Using the tuplle assign these names to the variables `hero` and `villian` and check if your hero beats the villain by evaluating `hero > villain`."
   ]
  },
  {
   "cell_type": "code",
   "execution_count": 3,
   "metadata": {},
   "outputs": [
    {
     "data": {
      "text/plain": [
       "false"
      ]
     },
     "execution_count": 3,
     "metadata": {},
     "output_type": "execute_result"
    }
   ],
   "source": [
    "hero,villain = (\"Luke Skywalker\",\"The Imperator\");\n",
    "hero > villain"
   ]
  },
  {
   "cell_type": "markdown",
   "metadata": {},
   "source": [
    "## Task 2\n",
    "\n",
    "Another enrypted message of from who must not be named showed up. This time they changed the ciper to much simpler one. Remove all except every 7th character to reveal the secret information.\n",
    "\n",
    "\"ogmucsYpoobaborseuasudiamtw madpzdcqfbbpqaibvkpzndgcbhy psvzamsamnzzfewwrlnsetamchh wwzrormmvqybweczhdlo enpjqiinfadwonrqofve xkgicvwfhpjgzaekbipstqzrtgzewnalimrunmbwl,taylks omyifqbajdudyuxjldwgtmtfxra mpswlcIhikeyt zekiscnhagsdheyuspwcvwvdfwtednjynkrrmzpdd hhuwfagtaahevemveofqtrnykcf yuiakmwzzgirneykidwhthmtqnb.nnrreu yqhnafWioecrchpwghgoahleqgntxcehtl mhngsvaarqlhymzrvfll buiasqIyucjaa?\""
   ]
  },
  {
   "cell_type": "code",
   "execution_count": 1,
   "metadata": {},
   "outputs": [
    {
     "data": {
      "text/plain": [
       "\"bophruYgujgkzohwzdweupkbmmt oitjovcuatxksaoobdrinwkiujd sxhzcnswseblmewyzyppeflplqe coimvqmshoulteaewqtb ukzjkyicqieionhomwrc vjxgenwfewldgairvlmstldkukuevtszbfrolrbgu,hpxxxl jxsgsjbmkdqadufhenfxthzyima hdtwkeIyljeze srsgsznnzzttoejdukavvsxjdudezelhbprpomwjh bvcdmugruymdkeqkokpqtbjalwt cbmoeuwprrpreezspcdztwksdlf.axqhaq walfdwWkjcueuhdwgzwkaoqfvfstskgkvt ocvlxcaymghgymibyulm xgzdlqIfhpwef?\""
      ]
     },
     "metadata": {},
     "output_type": "display_data"
    },
    {
     "data": {
      "text/plain": [
       "\"You can see me in water, but I never get wet. What am I?\""
      ]
     },
     "metadata": {},
     "output_type": "display_data"
    }
   ],
   "source": [
    "riddle = \"You can see me in water, but I never get wet. What am I?\";\n",
    "enc = \"\";\n",
    "for i in 1:length(riddle)\n",
    "    enc = enc * lowercase(String(Char.(rand(65:90,6)))) * riddle[i:i]\n",
    "end\n",
    "display(enc);\n",
    "display(enc[7:7:end])"
   ]
  },
  {
   "cell_type": "markdown",
   "metadata": {},
   "source": [
    "## Task 3\n",
    "\n",
    "Create a Dict m which maps the strings of some unit prefix to their corresponding values. e.g. m[\"k\"] should yield $10^3$ and m[\"M\"] should yield $10^6$."
   ]
  },
  {
   "cell_type": "code",
   "execution_count": 4,
   "metadata": {},
   "outputs": [
    {
     "data": {
      "text/plain": [
       "Dict{String,Int64} with 2 entries:\n",
       "  \"M\" => 1000000\n",
       "  \"k\" => 1000"
      ]
     },
     "execution_count": 4,
     "metadata": {},
     "output_type": "execute_result"
    }
   ],
   "source": [
    "m = Dict(\"k\"=>10^3,\"M\"=>10^6)"
   ]
  },
  {
   "cell_type": "code",
   "execution_count": null,
   "metadata": {
    "collapsed": true
   },
   "outputs": [],
   "source": []
  }
 ],
 "metadata": {
  "kernelspec": {
   "display_name": "Julia 0.6.0",
   "language": "julia",
   "name": "julia-0.6"
  },
  "language_info": {
   "file_extension": ".jl",
   "mimetype": "application/julia",
   "name": "julia",
   "version": "0.6.0"
  }
 },
 "nbformat": 4,
 "nbformat_minor": 2
}
