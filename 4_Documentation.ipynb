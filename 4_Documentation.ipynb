{
 "cells": [
  {
   "cell_type": "markdown",
   "metadata": {},
   "source": [
    "# Documentation"
   ]
  },
  {
   "cell_type": "markdown",
   "metadata": {},
   "source": [
    "## Single Line"
   ]
  },
  {
   "cell_type": "code",
   "execution_count": 3,
   "metadata": {},
   "outputs": [
    {
     "name": "stdout",
     "output_type": "stream",
     "text": [
      "search: accu\u001b[1mm\u001b[22m\u001b[1mu\u001b[22m\u001b[1ml\u001b[22ma\u001b[1mt\u001b[22me accu\u001b[1mm\u001b[22m\u001b[1mu\u001b[22m\u001b[1ml\u001b[22ma\u001b[1mt\u001b[22me! A_\u001b[1mm\u001b[22m\u001b[1mu\u001b[22m\u001b[1ml\u001b[22m_B\u001b[1mt\u001b[22m! A_\u001b[1mm\u001b[22m\u001b[1mu\u001b[22m\u001b[1ml\u001b[22m_B\u001b[1mt\u001b[22m At_\u001b[1mm\u001b[22m\u001b[1mu\u001b[22m\u001b[1ml\u001b[22m_B\u001b[1mt\u001b[22m! At_\u001b[1mm\u001b[22m\u001b[1mu\u001b[22m\u001b[1ml\u001b[22m_B\u001b[1mt\u001b[22m\n",
      "\n"
     ]
    },
    {
     "data": {
      "text/markdown": [
       "mult2(x) multiplies x by 2 \n"
      ],
      "text/plain": [
       "mult2(x) multiplies x by 2 \n"
      ]
     },
     "execution_count": 3,
     "metadata": {},
     "output_type": "execute_result"
    }
   ],
   "source": [
    "?mult2"
   ]
  },
  {
   "cell_type": "code",
   "execution_count": 2,
   "metadata": {},
   "outputs": [
    {
     "data": {
      "text/plain": [
       "mult2"
      ]
     },
     "execution_count": 2,
     "metadata": {},
     "output_type": "execute_result"
    }
   ],
   "source": [
    "\" mult2(x) multiplies x by 2 \"\n",
    "function mult2(x)\n",
    "    2*x\n",
    "end"
   ]
  },
  {
   "cell_type": "markdown",
   "metadata": {},
   "source": [
    "## Multi Line"
   ]
  },
  {
   "cell_type": "code",
   "execution_count": 8,
   "metadata": {},
   "outputs": [
    {
     "name": "stderr",
     "output_type": "stream",
     "text": [
      "\u001b[1m\u001b[33mWARNING: \u001b[39m\u001b[22m\u001b[33mreplacing docs for 'mult2 :: Tuple{Any}' in module 'Main'.\u001b[39m\n"
     ]
    },
    {
     "data": {
      "text/plain": [
       "mult2"
      ]
     },
     "execution_count": 8,
     "metadata": {},
     "output_type": "execute_result"
    }
   ],
   "source": [
    "\"\"\"\n",
    "    mult2(x)\n",
    "\n",
    "Multiply x by 2.\n",
    "\"\"\"\n",
    "function mult2(x)\n",
    "    2*x\n",
    "end"
   ]
  },
  {
   "cell_type": "code",
   "execution_count": 9,
   "metadata": {},
   "outputs": [
    {
     "name": "stdout",
     "output_type": "stream",
     "text": [
      "search: accu\u001b[1mm\u001b[22m\u001b[1mu\u001b[22m\u001b[1ml\u001b[22ma\u001b[1mt\u001b[22me accu\u001b[1mm\u001b[22m\u001b[1mu\u001b[22m\u001b[1ml\u001b[22ma\u001b[1mt\u001b[22me! A_\u001b[1mm\u001b[22m\u001b[1mu\u001b[22m\u001b[1ml\u001b[22m_B\u001b[1mt\u001b[22m! A_\u001b[1mm\u001b[22m\u001b[1mu\u001b[22m\u001b[1ml\u001b[22m_B\u001b[1mt\u001b[22m At_\u001b[1mm\u001b[22m\u001b[1mu\u001b[22m\u001b[1ml\u001b[22m_B\u001b[1mt\u001b[22m! At_\u001b[1mm\u001b[22m\u001b[1mu\u001b[22m\u001b[1ml\u001b[22m_B\u001b[1mt\u001b[22m\n",
      "\n"
     ]
    },
    {
     "data": {
      "text/markdown": [
       "```\n",
       "mult2(x)\n",
       "```\n",
       "\n",
       "Multiply x by 2.\n"
      ],
      "text/plain": [
       "```\n",
       "mult2(x)\n",
       "```\n",
       "\n",
       "Multiply x by 2.\n"
      ]
     },
     "execution_count": 9,
     "metadata": {},
     "output_type": "execute_result"
    }
   ],
   "source": [
    "?mult2"
   ]
  },
  {
   "cell_type": "markdown",
   "metadata": {},
   "source": [
    "### Markdown Code"
   ]
  },
  {
   "cell_type": "code",
   "execution_count": 10,
   "metadata": {},
   "outputs": [
    {
     "name": "stderr",
     "output_type": "stream",
     "text": [
      "\u001b[1m\u001b[33mWARNING: \u001b[39m\u001b[22m\u001b[33mreplacing docs for 'mult2 :: Tuple{Any}' in module 'Main'.\u001b[39m\n"
     ]
    },
    {
     "data": {
      "text/plain": [
       "mult2"
      ]
     },
     "execution_count": 10,
     "metadata": {},
     "output_type": "execute_result"
    }
   ],
   "source": [
    "\"\"\"\n",
    "    mult2(x)\n",
    "\n",
    "Multiply x by 2.\n",
    "\n",
    "- simple\n",
    "- easy\n",
    "- useless\n",
    "\"\"\"\n",
    "function mult2(x)\n",
    "    2*x\n",
    "end"
   ]
  },
  {
   "cell_type": "code",
   "execution_count": 11,
   "metadata": {},
   "outputs": [
    {
     "name": "stdout",
     "output_type": "stream",
     "text": [
      "search: accu\u001b[1mm\u001b[22m\u001b[1mu\u001b[22m\u001b[1ml\u001b[22ma\u001b[1mt\u001b[22me accu\u001b[1mm\u001b[22m\u001b[1mu\u001b[22m\u001b[1ml\u001b[22ma\u001b[1mt\u001b[22me! A_\u001b[1mm\u001b[22m\u001b[1mu\u001b[22m\u001b[1ml\u001b[22m_B\u001b[1mt\u001b[22m! A_\u001b[1mm\u001b[22m\u001b[1mu\u001b[22m\u001b[1ml\u001b[22m_B\u001b[1mt\u001b[22m At_\u001b[1mm\u001b[22m\u001b[1mu\u001b[22m\u001b[1ml\u001b[22m_B\u001b[1mt\u001b[22m! At_\u001b[1mm\u001b[22m\u001b[1mu\u001b[22m\u001b[1ml\u001b[22m_B\u001b[1mt\u001b[22m\n",
      "\n"
     ]
    },
    {
     "data": {
      "text/markdown": [
       "```\n",
       "mult2(x)\n",
       "```\n",
       "\n",
       "Multiply x by 2.\n",
       "\n",
       "  * simple\n",
       "  * easy\n",
       "  * useless\n"
      ],
      "text/plain": [
       "```\n",
       "mult2(x)\n",
       "```\n",
       "\n",
       "Multiply x by 2.\n",
       "\n",
       "  * simple\n",
       "  * easy\n",
       "  * useless\n"
      ]
     },
     "execution_count": 11,
     "metadata": {},
     "output_type": "execute_result"
    }
   ],
   "source": [
    "?mult2"
   ]
  },
  {
   "cell_type": "markdown",
   "metadata": {},
   "source": [
    "### Latex Code"
   ]
  },
  {
   "cell_type": "code",
   "execution_count": 21,
   "metadata": {},
   "outputs": [
    {
     "name": "stderr",
     "output_type": "stream",
     "text": [
      "\u001b[1m\u001b[33mWARNING: \u001b[39m\u001b[22m\u001b[33mreplacing docs for 'mult2 :: Tuple{Any}' in module 'Main'.\u001b[39m\n"
     ]
    },
    {
     "data": {
      "text/plain": [
       "mult2"
      ]
     },
     "execution_count": 21,
     "metadata": {},
     "output_type": "execute_result"
    }
   ],
   "source": [
    "\"\"\"\n",
    "    mult2(x)\n",
    "\n",
    "Multiply `x` by 2 yielding ``y = 2x``.\n",
    "\"\"\"\n",
    "function mult2(x)\n",
    "    2*x\n",
    "end"
   ]
  },
  {
   "cell_type": "code",
   "execution_count": 22,
   "metadata": {},
   "outputs": [
    {
     "name": "stdout",
     "output_type": "stream",
     "text": [
      "search: accu\u001b[1mm\u001b[22m\u001b[1mu\u001b[22m\u001b[1ml\u001b[22ma\u001b[1mt\u001b[22me accu\u001b[1mm\u001b[22m\u001b[1mu\u001b[22m\u001b[1ml\u001b[22ma\u001b[1mt\u001b[22me! A_\u001b[1mm\u001b[22m\u001b[1mu\u001b[22m\u001b[1ml\u001b[22m_B\u001b[1mt\u001b[22m! A_\u001b[1mm\u001b[22m\u001b[1mu\u001b[22m\u001b[1ml\u001b[22m_B\u001b[1mt\u001b[22m At_\u001b[1mm\u001b[22m\u001b[1mu\u001b[22m\u001b[1ml\u001b[22m_B\u001b[1mt\u001b[22m! At_\u001b[1mm\u001b[22m\u001b[1mu\u001b[22m\u001b[1ml\u001b[22m_B\u001b[1mt\u001b[22m\n",
      "\n"
     ]
    },
    {
     "data": {
      "text/markdown": [
       "```\n",
       "mult2(x)\n",
       "```\n",
       "\n",
       "Multiply `x` by 2 yielding $y = 2x$.\n"
      ],
      "text/plain": [
       "```\n",
       "mult2(x)\n",
       "```\n",
       "\n",
       "Multiply `x` by 2 yielding $y = 2x$.\n"
      ]
     },
     "execution_count": 22,
     "metadata": {},
     "output_type": "execute_result"
    }
   ],
   "source": [
    "?mult2"
   ]
  },
  {
   "cell_type": "markdown",
   "metadata": {},
   "source": [
    "### Argument List"
   ]
  },
  {
   "cell_type": "code",
   "execution_count": 12,
   "metadata": {},
   "outputs": [
    {
     "name": "stderr",
     "output_type": "stream",
     "text": [
      "\u001b[1m\u001b[33mWARNING: \u001b[39m\u001b[22m\u001b[33mreplacing docs for 'mult2 :: Tuple{Any}' in module 'Main'.\u001b[39m\n"
     ]
    },
    {
     "data": {
      "text/plain": [
       "mult2"
      ]
     },
     "execution_count": 12,
     "metadata": {},
     "output_type": "execute_result"
    }
   ],
   "source": [
    "\"\"\"\n",
    "    mult2(x)\n",
    "\n",
    "Multiply x by 2.\n",
    "\n",
    "# Arguments\n",
    "- `x` : Number to be multiplied\n",
    "\"\"\"\n",
    "function mult2(x)\n",
    "    2*x\n",
    "end"
   ]
  },
  {
   "cell_type": "code",
   "execution_count": 13,
   "metadata": {},
   "outputs": [
    {
     "name": "stdout",
     "output_type": "stream",
     "text": [
      "search: accu\u001b[1mm\u001b[22m\u001b[1mu\u001b[22m\u001b[1ml\u001b[22ma\u001b[1mt\u001b[22me accu\u001b[1mm\u001b[22m\u001b[1mu\u001b[22m\u001b[1ml\u001b[22ma\u001b[1mt\u001b[22me! A_\u001b[1mm\u001b[22m\u001b[1mu\u001b[22m\u001b[1ml\u001b[22m_B\u001b[1mt\u001b[22m! A_\u001b[1mm\u001b[22m\u001b[1mu\u001b[22m\u001b[1ml\u001b[22m_B\u001b[1mt\u001b[22m At_\u001b[1mm\u001b[22m\u001b[1mu\u001b[22m\u001b[1ml\u001b[22m_B\u001b[1mt\u001b[22m! At_\u001b[1mm\u001b[22m\u001b[1mu\u001b[22m\u001b[1ml\u001b[22m_B\u001b[1mt\u001b[22m\n",
      "\n"
     ]
    },
    {
     "data": {
      "text/markdown": [
       "```\n",
       "mult2(x)\n",
       "```\n",
       "\n",
       "Multiply x by 2.\n",
       "\n",
       "# Arguments\n",
       "\n",
       "  * `x` : Number to be multiplied\n"
      ],
      "text/plain": [
       "```\n",
       "mult2(x)\n",
       "```\n",
       "\n",
       "Multiply x by 2.\n",
       "\n",
       "# Arguments\n",
       "\n",
       "  * `x` : Number to be multiplied\n"
      ]
     },
     "execution_count": 13,
     "metadata": {},
     "output_type": "execute_result"
    }
   ],
   "source": [
    "?mult2"
   ]
  },
  {
   "cell_type": "markdown",
   "metadata": {},
   "source": [
    "### Split Documentation"
   ]
  },
  {
   "cell_type": "code",
   "execution_count": 16,
   "metadata": {},
   "outputs": [
    {
     "name": "stderr",
     "output_type": "stream",
     "text": [
      "\u001b[1m\u001b[33mWARNING: \u001b[39m\u001b[22m\u001b[33mreplacing docs for 'mult2 :: Tuple{Integer}' in module 'Main'.\u001b[39m\n"
     ]
    },
    {
     "data": {
      "text/plain": [
       "mult2"
      ]
     },
     "execution_count": 16,
     "metadata": {},
     "output_type": "execute_result"
    }
   ],
   "source": [
    "\"\"\"\n",
    "    mult2(x::Integer)\n",
    "\n",
    "Multiply integer x by 2.\n",
    "\"\"\"\n",
    "function mult2(x::Integer)\n",
    "    2*x\n",
    "end"
   ]
  },
  {
   "cell_type": "code",
   "execution_count": 17,
   "metadata": {},
   "outputs": [
    {
     "name": "stdout",
     "output_type": "stream",
     "text": [
      "search: accu\u001b[1mm\u001b[22m\u001b[1mu\u001b[22m\u001b[1ml\u001b[22ma\u001b[1mt\u001b[22me accu\u001b[1mm\u001b[22m\u001b[1mu\u001b[22m\u001b[1ml\u001b[22ma\u001b[1mt\u001b[22me! A_\u001b[1mm\u001b[22m\u001b[1mu\u001b[22m\u001b[1ml\u001b[22m_B\u001b[1mt\u001b[22m! A_\u001b[1mm\u001b[22m\u001b[1mu\u001b[22m\u001b[1ml\u001b[22m_B\u001b[1mt\u001b[22m At_\u001b[1mm\u001b[22m\u001b[1mu\u001b[22m\u001b[1ml\u001b[22m_B\u001b[1mt\u001b[22m! At_\u001b[1mm\u001b[22m\u001b[1mu\u001b[22m\u001b[1ml\u001b[22m_B\u001b[1mt\u001b[22m\n",
      "\n"
     ]
    },
    {
     "data": {
      "text/markdown": [
       "```\n",
       "mult2(x)\n",
       "```\n",
       "\n",
       "Multiply x by 2.\n",
       "\n",
       "# Arguments\n",
       "\n",
       "  * `x` : Number to be multiplied\n",
       "\n",
       "```\n",
       "mult2(x::Integer)\n",
       "```\n",
       "\n",
       "Multiply integer x by 2.\n"
      ],
      "text/plain": [
       "```\n",
       "mult2(x)\n",
       "```\n",
       "\n",
       "Multiply x by 2.\n",
       "\n",
       "# Arguments\n",
       "\n",
       "  * `x` : Number to be multiplied\n",
       "\n",
       "```\n",
       "mult2(x::Integer)\n",
       "```\n",
       "\n",
       "Multiply integer x by 2.\n"
      ]
     },
     "execution_count": 17,
     "metadata": {},
     "output_type": "execute_result"
    }
   ],
   "source": [
    "?mult2"
   ]
  },
  {
   "cell_type": "markdown",
   "metadata": {},
   "source": [
    "### Examples Section"
   ]
  },
  {
   "cell_type": "code",
   "execution_count": 20,
   "metadata": {},
   "outputs": [
    {
     "name": "stderr",
     "output_type": "stream",
     "text": [
      "\u001b[1m\u001b[33mWARNING: \u001b[39m\u001b[22m\u001b[33mreplacing docs for 'mult2 :: Tuple{Integer}' in module 'Main'.\u001b[39m\n"
     ]
    },
    {
     "data": {
      "text/plain": [
       "mult2"
      ]
     },
     "execution_count": 20,
     "metadata": {},
     "output_type": "execute_result"
    }
   ],
   "source": [
    "\"\"\"\n",
    "    mult2(x::Integer)\n",
    "\n",
    "Multiply integer x by 2.\n",
    "\n",
    "# Examples\n",
    "## Main Example\n",
    "```\n",
    "julia> mult2(1)\n",
    "2\n",
    "```\n",
    "## Auxilliary Example\n",
    "```\n",
    "julia> mult2(2)\n",
    "4\n",
    "```\n",
    "\"\"\"\n",
    "function mult2(x::Integer)\n",
    "    2*x\n",
    "end"
   ]
  },
  {
   "cell_type": "code",
   "execution_count": 21,
   "metadata": {
    "scrolled": true
   },
   "outputs": [
    {
     "name": "stdout",
     "output_type": "stream",
     "text": [
      "search: accu\u001b[1mm\u001b[22m\u001b[1mu\u001b[22m\u001b[1ml\u001b[22ma\u001b[1mt\u001b[22me accu\u001b[1mm\u001b[22m\u001b[1mu\u001b[22m\u001b[1ml\u001b[22ma\u001b[1mt\u001b[22me! A_\u001b[1mm\u001b[22m\u001b[1mu\u001b[22m\u001b[1ml\u001b[22m_B\u001b[1mt\u001b[22m! A_\u001b[1mm\u001b[22m\u001b[1mu\u001b[22m\u001b[1ml\u001b[22m_B\u001b[1mt\u001b[22m At_\u001b[1mm\u001b[22m\u001b[1mu\u001b[22m\u001b[1ml\u001b[22m_B\u001b[1mt\u001b[22m! At_\u001b[1mm\u001b[22m\u001b[1mu\u001b[22m\u001b[1ml\u001b[22m_B\u001b[1mt\u001b[22m\n",
      "\n"
     ]
    },
    {
     "data": {
      "text/markdown": [
       "```\n",
       "mult2(x)\n",
       "```\n",
       "\n",
       "Multiply x by 2.\n",
       "\n",
       "# Arguments\n",
       "\n",
       "  * `x` : Number to be multiplied\n",
       "\n",
       "```\n",
       "mult2(x::Integer)\n",
       "```\n",
       "\n",
       "Multiply integer x by 2.\n",
       "\n",
       "# Examples\n",
       "\n",
       "## Main Example\n",
       "\n",
       "```julia-repl\n",
       "julia> mult2(1)\n",
       "2\n",
       "```\n",
       "\n",
       "## Auxilliary Example\n",
       "\n",
       "```julia-repl\n",
       "julia> mult2(2)\n",
       "4\n",
       "```\n"
      ],
      "text/plain": [
       "```\n",
       "mult2(x)\n",
       "```\n",
       "\n",
       "Multiply x by 2.\n",
       "\n",
       "# Arguments\n",
       "\n",
       "  * `x` : Number to be multiplied\n",
       "\n",
       "```\n",
       "mult2(x::Integer)\n",
       "```\n",
       "\n",
       "Multiply integer x by 2.\n",
       "\n",
       "# Examples\n",
       "\n",
       "## Main Example\n",
       "\n",
       "```julia-repl\n",
       "julia> mult2(1)\n",
       "2\n",
       "```\n",
       "\n",
       "## Auxilliary Example\n",
       "\n",
       "```julia-repl\n",
       "julia> mult2(2)\n",
       "4\n",
       "```\n"
      ]
     },
     "execution_count": 21,
     "metadata": {},
     "output_type": "execute_result"
    }
   ],
   "source": [
    "?mult2"
   ]
  },
  {
   "cell_type": "markdown",
   "metadata": {
    "collapsed": true
   },
   "source": [
    "## Exercises"
   ]
  },
  {
   "cell_type": "markdown",
   "metadata": {},
   "source": [
    "### Task 1\n",
    "\n",
    "Add a documentation to the function newtonInv from session 4, such that `?newtonInv` displays the following information:\n",
    "\n",
    "\n",
    "\n",
    "    newtonInv(x::Real,y0=0.1;iterations=10)\n",
    "\n",
    "Calculate an approximation of the inverse of `x`\n",
    "by using the iteration $y_{k+1} = 2*y_k - y_k^2*x$\n",
    "with inital value $y_0$ = y0.\n",
    "\n",
    "\n",
    "# Examples\n",
    "## Main Example\n",
    "```\n",
    "julia> newonInv(2)\n",
    "0.5\n",
    "```"
   ]
  },
  {
   "cell_type": "code",
   "execution_count": null,
   "metadata": {
    "collapsed": true
   },
   "outputs": [],
   "source": []
  }
 ],
 "metadata": {
  "kernelspec": {
   "display_name": "Julia 0.6.0",
   "language": "julia",
   "name": "julia-0.6"
  },
  "language_info": {
   "file_extension": ".jl",
   "mimetype": "application/julia",
   "name": "julia",
   "version": "0.6.0"
  }
 },
 "nbformat": 4,
 "nbformat_minor": 2
}
