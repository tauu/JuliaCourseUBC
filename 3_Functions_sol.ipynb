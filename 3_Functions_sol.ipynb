{
 "cells": [
  {
   "cell_type": "markdown",
   "metadata": {},
   "source": [
    "### Task 1\n",
    "\n",
    "Write a function implementing the following map\n",
    "$$\n",
    "\\begin{align}\n",
    "   f \\colon &\\mathbb{R} \\to \\mathbb{R}\\\\\n",
    "  & x \\mapsto x^2 + \\frac{\\sin(x+13)}{x}\n",
    "\\end{align}\n",
    "$$"
   ]
  },
  {
   "cell_type": "code",
   "execution_count": 33,
   "metadata": {},
   "outputs": [
    {
     "data": {
      "text/plain": [
       "f (generic function with 1 method)"
      ]
     },
     "execution_count": 33,
     "metadata": {},
     "output_type": "execute_result"
    }
   ],
   "source": [
    "### Task 2\n",
    "Create a function $g$ mapping a function $f: \\mathbb{R} \\to \\mathbb{R}$ to the function $h(x) = |f(x)|$.\n",
    "\n",
    "With f being the function of task 1, you should get \n",
    "    `g(f)(-1) = 0.46342708199956506`f(x::Real) = -x^2 + sin(x+13)/x"
   ]
  },
  {
   "cell_type": "markdown",
   "metadata": {},
   "source": [
    "### Task 2\n",
    "Create a function $g$ mapping a function $f: \\mathbb{R} \\to \\mathbb{R}$ to the function $h(x) = |f(x)|$.\n",
    "\n",
    "With f being the function of task 1, you should get \n",
    "    `g(f)(-1) = 0.46342708199956506`"
   ]
  },
  {
   "cell_type": "code",
   "execution_count": null,
   "metadata": {
    "collapsed": true
   },
   "outputs": [],
   "source": [
    "g(f::Function) = abs∘f"
   ]
  },
  {
   "cell_type": "code",
   "execution_count": 39,
   "metadata": {},
   "outputs": [
    {
     "data": {
      "text/plain": [
       "0.46342708199956506"
      ]
     },
     "execution_count": 39,
     "metadata": {},
     "output_type": "execute_result"
    }
   ],
   "source": [
    "h = g(f); g(f)(-1)"
   ]
  },
  {
   "cell_type": "markdown",
   "metadata": {},
   "source": [
    "### Task 3\n",
    "\n",
    "One options to calculate the inverse of a real number $x$ is given by the recurrence relation.\n",
    "\n",
    "$$ y_{k+1} = 2y_k - y_k^2 x $$\n",
    "\n",
    "with sattisfies $y_{k+1} \\to \\frac{1}{x}$ for $k \\to \\infty$.\n",
    "\n",
    "Create a function `newtonInv` calculating the inverse of a given value $x$ using this iterations. The arguments of the function should be \n",
    " * x            (real number to be inverted)\n",
    " * y0           (starting value for iteration, optional, default: 0.1)\n",
    " * iterations   (number of iterations to performed, optional, default: 10, keyword option)\n",
    " \n",
    " \n",
    "*Bonus Task*: Modify the function such that it has an option \"relTol\" specifying a relative tolerance (default: 1e-8). Instead of performing a fixed amount of iterations, the modified function should iterate until the solution satisfies the given tolernace."
   ]
  },
  {
   "cell_type": "code",
   "execution_count": 57,
   "metadata": {},
   "outputs": [
    {
     "data": {
      "text/plain": [
       "newtonInv (generic function with 2 methods)"
      ]
     },
     "execution_count": 57,
     "metadata": {},
     "output_type": "execute_result"
    }
   ],
   "source": [
    "newtonInv(5)\n",
    "    y = y0;\n",
    "    for i in 1:iterations\n",
    "        y = 2*y-y^2*x\n",
    "    end\n",
    "    return y\n",
    "end"
   ]
  },
  {
   "cell_type": "code",
   "execution_count": 61,
   "metadata": {},
   "outputs": [
    {
     "data": {
      "text/plain": [
       "0.2"
      ]
     },
     "execution_count": 61,
     "metadata": {},
     "output_type": "execute_result"
    }
   ],
   "source": [
    "newtonInv(5)"
   ]
  },
  {
   "cell_type": "markdown",
   "metadata": {},
   "source": [
    "### Task 4\n",
    "Write a function `crossSwap!(x,y)` which exchanges `x[1]` with `y[end]` and `x[end]` with `y[1]`."
   ]
  },
  {
   "cell_type": "code",
   "execution_count": 66,
   "metadata": {},
   "outputs": [
    {
     "data": {
      "text/plain": [
       "crossSwap! (generic function with 1 method)"
      ]
     },
     "execution_count": 66,
     "metadata": {},
     "output_type": "execute_result"
    }
   ],
   "source": [
    "crossSwap!([1,2],[4,5])## Task 5\n",
    "\n",
    "Create a function f(x,+/-1) mapping the interval [-1,1] to right(+1) respectively left part of the unit circle in the complex plane.\n",
    "\n",
    "$$\n",
    "\\begin{align*}\n",
    "    f(x, 1) = e^{ \\pi i \\frac{x}{2}}\\\\\n",
    "    f(x,-1) = e^{ \\pi i (\\frac{x}{2} + 1)}\n",
    "\\end{align*}\n",
    "$$int2circle(x,::Val{1}) = exp(x/2*pi*im)\n",
    "int2circle(x,::Val{-1}) = exp((1+x/2)*pi*im)crossSwap!(x,y) = x[1],x[end],y[1],y[end] = y[end],y[1],x[end],x[1]"
   ]
  },
  {
   "cell_type": "code",
   "execution_count": 67,
   "metadata": {},
   "outputs": [
    {
     "data": {
      "text/plain": [
       "(5, 4, 2, 1)"
      ]
     },
     "execution_count": 67,
     "metadata": {},
     "output_type": "execute_result"
    }
   ],
   "source": [
    "crossSwap!([1,2],[4,5])"
   ]
  },
  {
   "cell_type": "markdown",
   "metadata": {
    "slideshow": {
     "slide_type": "subslide"
    }
   },
   "source": [
    "## Task 5\n",
    "\n",
    "Create a function f(x,+/-1) mapping the interval [-1,1] to right(+1) respectively left part of the unit circle in the complex plane.\n",
    "\n",
    "$$\n",
    "\\begin{align*}\n",
    "    f(x, 1) = e^{ \\pi i \\frac{x}{2}}\\\\\n",
    "    f(x,-1) = e^{ \\pi i (\\frac{x}{2} + 1)}\n",
    "\\end{align*}\n",
    "$$"
   ]
  },
  {
   "cell_type": "code",
   "execution_count": 17,
   "metadata": {
    "slideshow": {
     "slide_type": "fragment"
    }
   },
   "outputs": [
    {
     "data": {
      "text/plain": [
       "int2circle (generic function with 2 methods)"
      ]
     },
     "execution_count": 17,
     "metadata": {},
     "output_type": "execute_result"
    }
   ],
   "source": [
    "int2circle(x,::Val{1}) = exp(x/2*pi*im)\n",
    "int2circle(x,::Val{-1}) = exp((1+x/2)*pi*im)"
   ]
  },
  {
   "cell_type": "code",
   "execution_count": null,
   "metadata": {
    "collapsed": true
   },
   "outputs": [],
   "source": []
  }
 ],
 "metadata": {
  "kernelspec": {
   "display_name": "Julia 0.6.0",
   "language": "julia",
   "name": "julia-0.6"
  },
  "language_info": {
   "file_extension": ".jl",
   "mimetype": "application/julia",
   "name": "julia",
   "version": "0.6.0"
  }
 },
 "nbformat": 4,
 "nbformat_minor": 2
}
