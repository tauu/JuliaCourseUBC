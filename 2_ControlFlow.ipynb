{
 "cells": [
  {
   "cell_type": "markdown",
   "metadata": {
    "slideshow": {
     "slide_type": "slide"
    }
   },
   "source": [
    "# Iterating"
   ]
  },
  {
   "cell_type": "markdown",
   "metadata": {
    "slideshow": {
     "slide_type": "subslide"
    }
   },
   "source": [
    "## For Loops"
   ]
  },
  {
   "cell_type": "code",
   "execution_count": 2,
   "metadata": {
    "slideshow": {
     "slide_type": "fragment"
    }
   },
   "outputs": [
    {
     "name": "stdout",
     "output_type": "stream",
     "text": [
      " 1  2  3  4 "
     ]
    }
   ],
   "source": [
    "for i = 1:4\n",
    "    print(\" $i \")\n",
    "end"
   ]
  },
  {
   "cell_type": "code",
   "execution_count": 2,
   "metadata": {
    "slideshow": {
     "slide_type": "fragment"
    }
   },
   "outputs": [
    {
     "name": "stdout",
     "output_type": "stream",
     "text": [
      " 10  20  40 "
     ]
    }
   ],
   "source": [
    "x = [10,20,40];\n",
    "for i = x\n",
    "    print(\" $i \")\n",
    "end"
   ]
  },
  {
   "cell_type": "code",
   "execution_count": 3,
   "metadata": {
    "slideshow": {
     "slide_type": "fragment"
    }
   },
   "outputs": [
    {
     "name": "stdout",
     "output_type": "stream",
     "text": [
      " 10  20  40 "
     ]
    }
   ],
   "source": [
    "for i in x\n",
    "    print(\" $i \")\n",
    "end"
   ]
  },
  {
   "cell_type": "code",
   "execution_count": 4,
   "metadata": {
    "slideshow": {
     "slide_type": "fragment"
    }
   },
   "outputs": [
    {
     "name": "stdout",
     "output_type": "stream",
     "text": [
      " 10  20  40 "
     ]
    }
   ],
   "source": [
    "for i ∈ x\n",
    "    print(\" $i \")\n",
    "end"
   ]
  },
  {
   "cell_type": "markdown",
   "metadata": {
    "slideshow": {
     "slide_type": "subslide"
    }
   },
   "source": [
    "## Dictionaries"
   ]
  },
  {
   "cell_type": "code",
   "execution_count": 17,
   "metadata": {
    "slideshow": {
     "slide_type": "fragment"
    }
   },
   "outputs": [
    {
     "name": "stdout",
     "output_type": "stream",
     "text": [
      "bar - 2\n",
      "foo - 1\n"
     ]
    }
   ],
   "source": [
    "d = Dict( \"foo\" => 1, \"bar\" => 2 );\n",
    "for i ∈ d\n",
    "    println(\"$(i[1]) - $(i[2])\")\n",
    "end"
   ]
  },
  {
   "cell_type": "code",
   "execution_count": 20,
   "metadata": {
    "slideshow": {
     "slide_type": "fragment"
    }
   },
   "outputs": [
    {
     "name": "stdout",
     "output_type": "stream",
     "text": [
      " bar  foo "
     ]
    }
   ],
   "source": [
    "d = Dict( \"foo\" => 1, \"bar\" => 2 );\n",
    "for i ∈ keys(d)\n",
    "    print(\" $i \")\n",
    "end"
   ]
  },
  {
   "cell_type": "markdown",
   "metadata": {
    "slideshow": {
     "slide_type": "subslide"
    }
   },
   "source": [
    "## Comprehensions"
   ]
  },
  {
   "cell_type": "code",
   "execution_count": 26,
   "metadata": {
    "slideshow": {
     "slide_type": "fragment"
    }
   },
   "outputs": [
    {
     "data": {
      "text/plain": [
       "3-element Array{Int64,1}:\n",
       " 2\n",
       " 1\n",
       " 0"
      ]
     },
     "execution_count": 26,
     "metadata": {},
     "output_type": "execute_result"
    }
   ],
   "source": [
    "x = [2 * i % 3 for i in 1:3]"
   ]
  },
  {
   "cell_type": "code",
   "execution_count": 28,
   "metadata": {
    "slideshow": {
     "slide_type": "fragment"
    }
   },
   "outputs": [
    {
     "data": {
      "text/plain": [
       "2×5 Array{Int64,2}:\n",
       " 4   8  12  16  20\n",
       " 6  12  18  24  30"
      ]
     },
     "execution_count": 28,
     "metadata": {},
     "output_type": "execute_result"
    }
   ],
   "source": [
    "x = [2 * i * j  for i in 2:3 , j in 1:5]"
   ]
  },
  {
   "cell_type": "markdown",
   "metadata": {
    "collapsed": true,
    "slideshow": {
     "slide_type": "subslide"
    }
   },
   "source": [
    "## While Loops"
   ]
  },
  {
   "cell_type": "code",
   "execution_count": 2,
   "metadata": {
    "slideshow": {
     "slide_type": "fragment"
    }
   },
   "outputs": [
    {
     "name": "stdout",
     "output_type": "stream",
     "text": [
      "yay! yay! yay! "
     ]
    }
   ],
   "source": [
    "i = 0;\n",
    "while i < 3\n",
    "    print(\"yay! \"); i=i+1;\n",
    "end"
   ]
  },
  {
   "cell_type": "markdown",
   "metadata": {
    "slideshow": {
     "slide_type": "subslide"
    }
   },
   "source": [
    "## Conditionals"
   ]
  },
  {
   "cell_type": "code",
   "execution_count": 3,
   "metadata": {
    "slideshow": {
     "slide_type": "fragment"
    }
   },
   "outputs": [
    {
     "name": "stdout",
     "output_type": "stream",
     "text": [
      "Small"
     ]
    }
   ],
   "source": [
    "x = 1;\n",
    "if x > 2\n",
    "    print(\"Great\")\n",
    "else\n",
    "    print(\"Small\")\n",
    "end"
   ]
  },
  {
   "cell_type": "code",
   "execution_count": 5,
   "metadata": {
    "slideshow": {
     "slide_type": "fragment"
    }
   },
   "outputs": [
    {
     "name": "stdout",
     "output_type": "stream",
     "text": [
      "Hello"
     ]
    }
   ],
   "source": [
    "x = 3\n",
    "x > 2 && print(\"Hello\");\n",
    "x > 4 && print(\"World\");"
   ]
  },
  {
   "cell_type": "code",
   "execution_count": 7,
   "metadata": {
    "slideshow": {
     "slide_type": "fragment"
    }
   },
   "outputs": [
    {
     "name": "stdout",
     "output_type": "stream",
     "text": [
      ":-)"
     ]
    }
   ],
   "source": [
    "x > 4 || print(\":-)\");"
   ]
  },
  {
   "cell_type": "markdown",
   "metadata": {
    "collapsed": true,
    "slideshow": {
     "slide_type": "slide"
    }
   },
   "source": [
    "## Excercises"
   ]
  },
  {
   "cell_type": "markdown",
   "metadata": {
    "slideshow": {
     "slide_type": "subslide"
    }
   },
   "source": [
    "### Task 1\n",
    "\n",
    "Calculate an approximation of $\\pi$ using the \"shotgun\" approach from\n",
    "https://arxiv.org/abs/1404.1499 . Due to high risks involved with using actual shotguns, substitute the shotgun with the rand function. How many \"shots\" do you need to achieve an accuracy of 4 digits?"
   ]
  },
  {
   "cell_type": "code",
   "execution_count": 27,
   "metadata": {},
   "outputs": [
    {
     "data": {
      "text/plain": [
       "3.14141"
      ]
     },
     "execution_count": 27,
     "metadata": {},
     "output_type": "execute_result"
    }
   ],
   "source": [
    "n = 10000000;\n",
    "k = 1;\n",
    "for i = 1:n\n",
    "    x = rand(2);\n",
    "    if norm(x) <= 1\n",
    "        k = k + 1;\n",
    "    end\n",
    "end\n",
    "k/n*4"
   ]
  },
  {
   "cell_type": "markdown",
   "metadata": {},
   "source": [
    "### Task 2\n",
    "\n",
    "Another approach for approximating π is to evaluate the sum\n",
    "$$\n",
    "    \\pi \\approx \\pi_n = \\sqrt{12} \\sum_{k=0}^n \\frac{(-3)^{-k}}{2k+1}\n",
    "$$\n",
    "Determine the smallest value for $n$ such that $|\\pi - \\pi_n| < 10^{-15}$."
   ]
  },
  {
   "cell_type": "code",
   "execution_count": 35,
   "metadata": {},
   "outputs": [
    {
     "data": {
      "text/plain": [
       "28"
      ]
     },
     "execution_count": 35,
     "metadata": {},
     "output_type": "execute_result"
    }
   ],
   "source": [
    "x = 0;\n",
    "k = 0;\n",
    "while abs(x-pi) >= 1e-15\n",
    "    x = x + sqrt(12)*(-3.0)^-k / (2k+1)\n",
    "    k = k + 1;\n",
    "end\n",
    "k-1"
   ]
  },
  {
   "cell_type": "markdown",
   "metadata": {},
   "source": [
    "### Task 3\n",
    "Solve the first problem of project Euler, see https://projecteuler.net/problem=1 ."
   ]
  },
  {
   "cell_type": "code",
   "execution_count": 41,
   "metadata": {},
   "outputs": [
    {
     "data": {
      "text/plain": [
       "233168"
      ]
     },
     "execution_count": 41,
     "metadata": {},
     "output_type": "execute_result"
    }
   ],
   "source": [
    "s = 0;\n",
    "for i = 1:999\n",
    "    if i % 3 == 0 || i % 5 == 0\n",
    "        s = s + i\n",
    "    end\n",
    "end\n",
    "s"
   ]
  }
 ],
 "metadata": {
  "celltoolbar": "Slideshow",
  "kernelspec": {
   "display_name": "Julia 0.6.0",
   "language": "julia",
   "name": "julia-0.6"
  },
  "language_info": {
   "file_extension": ".jl",
   "mimetype": "application/julia",
   "name": "julia",
   "version": "0.6.0"
  }
 },
 "nbformat": 4,
 "nbformat_minor": 2
}
