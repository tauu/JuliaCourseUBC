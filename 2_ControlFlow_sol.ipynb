{
 "cells": [
  {
   "cell_type": "markdown",
   "metadata": {},
   "source": [
    "### Task 1\n",
    "\n",
    "Calculate an approximation of $\\pi$ using the \"shotgun\" approach from\n",
    "https://arxiv.org/abs/1404.1499 . Due to high risks involved with using actual shotguns, substitute the shotgun with the rand function. How many \"shots\" do you need to achieve an accuracy of 4 digits?"
   ]
  },
  {
   "cell_type": "code",
   "execution_count": 1,
   "metadata": {},
   "outputs": [
    {
     "data": {
      "text/plain": [
       "3.1420424"
      ]
     },
     "execution_count": 1,
     "metadata": {},
     "output_type": "execute_result"
    }
   ],
   "source": [
    "n = 10000000;\n",
    "k = 1;\n",
    "for i = 1:n\n",
    "    x = rand(2);\n",
    "    if norm(x) <= 1\n",
    "        k = k + 1;\n",
    "    end\n",
    "end\n",
    "k/n*4"
   ]
  },
  {
   "cell_type": "markdown",
   "metadata": {},
   "source": [
    "### Task 2\n",
    "\n",
    "Another approach for approximating π is to evaluate the sum\n",
    "$$\n",
    "    \\pi \\approx \\pi_n = \\sqrt{12} \\sum_{k=0}^n \\frac{(-3)^{-k}}{2k+1}\n",
    "$$\n",
    "Determine the smallest value for $n$ such that $|\\pi - \\pi_n| < 10^{-15}$."
   ]
  },
  {
   "cell_type": "code",
   "execution_count": 3,
   "metadata": {},
   "outputs": [
    {
     "data": {
      "text/plain": [
       "28"
      ]
     },
     "execution_count": 3,
     "metadata": {},
     "output_type": "execute_result"
    }
   ],
   "source": [
    "x = 0;\n",
    "k = 0;\n",
    "while abs(x-pi) >= 1e-15\n",
    "    x = x + sqrt(12)*(-3.0)^-k / (2k+1)\n",
    "    k = k + 1;\n",
    "end\n",
    "k-1"
   ]
  },
  {
   "cell_type": "markdown",
   "metadata": {},
   "source": [
    "### Task 3\n",
    "Solve the first problem of project Euler, see https://projecteuler.net/problem=1 ."
   ]
  },
  {
   "cell_type": "code",
   "execution_count": 4,
   "metadata": {},
   "outputs": [
    {
     "data": {
      "text/plain": [
       "233168"
      ]
     },
     "execution_count": 4,
     "metadata": {},
     "output_type": "execute_result"
    }
   ],
   "source": [
    "s = 0;\n",
    "for i = 1:999\n",
    "    if i % 3 == 0 || i % 5 == 0\n",
    "        s = s + i\n",
    "    end\n",
    "end\n",
    "s"
   ]
  }
 ],
 "metadata": {
  "kernelspec": {
   "display_name": "Julia 0.6.0",
   "language": "julia",
   "name": "julia-0.6"
  },
  "language_info": {
   "file_extension": ".jl",
   "mimetype": "application/julia",
   "name": "julia",
   "version": "0.6.0"
  }
 },
 "nbformat": 4,
 "nbformat_minor": 2
}
