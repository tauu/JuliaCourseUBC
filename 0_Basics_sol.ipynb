{
 "cells": [
  {
   "cell_type": "markdown",
   "metadata": {},
   "source": [
    "### Task 1\n",
    "\n",
    "Install/Open Julia using one of the mentioned options."
   ]
  },
  {
   "cell_type": "markdown",
   "metadata": {},
   "source": [
    "### Task 2\n",
    "\n",
    "Calculate the solution of $$x - 10 + e^\\pi = \\sin(2.5)$$"
   ]
  },
  {
   "cell_type": "code",
   "execution_count": 1,
   "metadata": {},
   "outputs": [
    {
     "data": {
      "text/plain": [
       "-12.542220488675312"
      ]
     },
     "execution_count": 1,
     "metadata": {},
     "output_type": "execute_result"
    }
   ],
   "source": [
    "sin(2.5)-exp(π)+10"
   ]
  },
  {
   "cell_type": "markdown",
   "metadata": {},
   "source": [
    "### Task 3\n",
    "\n",
    "Calculate the exact value of y for\n",
    "$$ y = \\frac13 + \\frac35 + \\frac57 + \\frac{7}{11} + \\frac{11}{13} $$\n",
    "and convert the exact value to a floating point number."
   ]
  },
  {
   "cell_type": "code",
   "execution_count": 4,
   "metadata": {},
   "outputs": [
    {
     "data": {
      "text/plain": [
       "46999//15015"
      ]
     },
     "metadata": {},
     "output_type": "display_data"
    },
    {
     "data": {
      "text/plain": [
       "3.13013653013653"
      ]
     },
     "execution_count": 4,
     "metadata": {},
     "output_type": "execute_result"
    }
   ],
   "source": [
    "y = 1//3 + 3//5 + 5//7 + 7//11 + 11//13\n",
    "display(y)\n",
    "Float64(y)"
   ]
  },
  {
   "cell_type": "markdown",
   "metadata": {},
   "source": [
    "### Task 4\n",
    "\n",
    "Create a string according to the following template and replace any occurence of '?' with the appropriate value.\n",
    "\n",
    "\"For x = 4.2 it holds that $\\sin(x/2*\\pi)$ = ? and $\\cos(x/3*\\pi)$ = ?\""
   ]
  },
  {
   "cell_type": "code",
   "execution_count": 8,
   "metadata": {},
   "outputs": [
    {
     "data": {
      "text/plain": [
       "\"For x = 4.2 it holds that sin(x/2*π) = 0.3090169943749472 and cos(x/3*π) = -0.30901699437494756\""
      ]
     },
     "execution_count": 8,
     "metadata": {},
     "output_type": "execute_result"
    }
   ],
   "source": [
    "\"For x = 4.2 it holds that sin(x/2*π) = $(sin(4.2/2*π)) and cos(x/3*π) = $(cos(4.2/3*π))\""
   ]
  },
  {
   "cell_type": "markdown",
   "metadata": {},
   "source": [
    "### Task 5\n",
    "\n",
    "We picked up the following encrypted message from a super secret agency who must not be named.\n",
    "\n",
    "`\"Whc1atzcd,th3mc1and5zcc1anzc1ac1an5w,th3r,zc1abc1utzcc1a5k5zcn,thozc1aqc1u,th35t,thi,thon5?\"`\n",
    "\n",
    "Fortunately we recently aquired the instructions how to decipher the message.\n",
    "The required steps have to be performed in the given order and are as follows:\n",
    "\n",
    "* convert numbers to letters\n",
    " * 1 -> l, 3 -> e, 5 -> s\n",
    " * remove all remaining numbers\n",
    "* remove n letters in front of vowels with n being:\n",
    " * 2 for a,u\n",
    " * 3 for o,e,i\n",
    "* replace za and zc with spaces\n",
    "\n",
    "Decipher the message.\n",
    "\n",
    "Hint: r\"[aou]\" matches the vowels a,o or u. r\".{3}\" matches any three characters."
   ]
  },
  {
   "cell_type": "code",
   "execution_count": null,
   "metadata": {
    "collapsed": true
   },
   "outputs": [],
   "source": [
    "riddle = replace(\"What demands an  answer,  but asks no  questions?\",\"  \",\"za\")\n",
    "riddle = replace(riddle,\" \",\"zc\")\n",
    "riddle = replace(riddle,r\"([au])\",s\"cl\\1\")\n",
    "riddle = replace(riddle,r\"([oei])\",s\"nth\\1\")\n",
    "riddle = replace(riddle,\"l\",\"1\")\n",
    "riddle = replace(riddle,\"e\",\"3\")\n",
    "riddle = replace(riddle,\"s\",\"5\")\n",
    "display(riddle)\n",
    "riddle = replace(riddle,\"1\",\"l\")\n",
    "riddle = replace(riddle,\"3\",\"e\")\n",
    "riddle = replace(riddle,\"5\",\"s\")\n",
    "riddle = replace(riddle,r\".{2}([au])\",s\"\\1\")\n",
    "riddle = replace(riddle,r\".{3}([oei])\",s\"\\1\")\n",
    "riddle = replace(riddle,r\"z[ac]\",\" \")"
   ]
  },
  {
   "cell_type": "markdown",
   "metadata": {},
   "source": [
    "### Task 6\n",
    "\n",
    "Find a string for which the regular expression `r\"bb|[^b]{2}\"` matches.\n",
    "\n",
    "Bonus: What does this regular expression actually mean?"
   ]
  },
  {
   "cell_type": "code",
   "execution_count": 16,
   "metadata": {},
   "outputs": [
    {
     "data": {
      "text/plain": [
       "true"
      ]
     },
     "execution_count": 16,
     "metadata": {},
     "output_type": "execute_result"
    }
   ],
   "source": [
    "ismatch(r\"bb|[^b]{2}\",\"adf\")"
   ]
  }
 ],
 "metadata": {
  "kernelspec": {
   "display_name": "Julia 0.6.0",
   "language": "julia",
   "name": "julia-0.6"
  },
  "language_info": {
   "file_extension": ".jl",
   "mimetype": "application/julia",
   "name": "julia",
   "version": "0.6.0"
  }
 },
 "nbformat": 4,
 "nbformat_minor": 2
}
